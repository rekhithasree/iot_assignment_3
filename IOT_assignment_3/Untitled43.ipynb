{
  "nbformat": 4,
  "nbformat_minor": 0,
  "metadata": {
    "colab": {
      "provenance": []
    },
    "kernelspec": {
      "name": "python3",
      "display_name": "Python 3"
    },
    "language_info": {
      "name": "python"
    }
  },
  "cells": [
    {
      "cell_type": "code",
      "source": [
        " def fcfs_preemptive(arr):\n",
        "    SIZE = len(arr)\n",
        "    total_time = 0\n",
        "    waiting_time = [0] * SIZE\n",
        "    remaining_time = [process[2] for process in arr]\n",
        "\n",
        "    print(\"FCFS Preemptive Scheduling (Shortest Remaining Time First):\")\n",
        "    print(\"Process\\tWaiting Time\\tTurnaround Time\")\n",
        "\n",
        "    while any(remaining_time):\n",
        "        min_remaining_time = float(\"inf\")\n",
        "        min_index = -1\n",
        "\n",
        "        for i in range(SIZE):\n",
        "            if arr[i][1] <= total_time and remaining_time[i] < min_remaining_time and remaining_time[i] > 0:\n",
        "                min_remaining_time = remaining_time[i]\n",
        "                min_index = i\n",
        "\n",
        "        if min_index == -1:\n",
        "            total_time += 1\n",
        "        else:\n",
        "            remaining_time[min_index] -= 1\n",
        "            total_time += 1\n",
        "\n",
        "            if remaining_time[min_index] == 0:\n",
        "                waiting_time[min_index] = total_time - arr[min_index][1]\n",
        "\n",
        "    turnaround_time = [waiting_time[i] + process[2] for i, process in enumerate(arr)]\n",
        "    avg_waiting_time = sum(waiting_time) / SIZE\n",
        "    avg_turnaround_time = sum(turnaround_time) / SIZE\n",
        "\n",
        "    for i in range(SIZE):\n",
        "        print(f\"{arr[i][0]}\\t{waiting_time[i]}\\t\\t{turnaround_time[i]}\")\n",
        "\n",
        "    print(f\"Average Waiting Time: {avg_waiting_time}\")\n",
        "    print(f\"Average Turnaround Time: {avg_turnaround_time}\")\n",
        "\n",
        "if __name__ == \"__main__\":\n",
        "    processes_preemptive_fcfs = [\n",
        "        (\"P1\", 0, 24, 3),\n",
        "        (\"P2\", 4, 3, 1),\n",
        "        (\"P3\", 5, 3, 4),\n",
        "        (\"P4\", 6, 12, 2)\n",
        "    ]\n",
        "\n",
        "    fcfs_preemptive(processes_preemptive_fcfs)\n"
      ],
      "metadata": {
        "colab": {
          "base_uri": "https://localhost:8080/"
        },
        "id": "yNgCxH1kWLD2",
        "outputId": "b390463b-2259-42a7-eafd-4a64d72c32c6"
      },
      "execution_count": null,
      "outputs": [
        {
          "output_type": "stream",
          "name": "stdout",
          "text": [
            "FCFS Preemptive Scheduling (Shortest Remaining Time First):\n",
            "Process\tWaiting Time\tTurnaround Time\n",
            "P1\t42\t\t66\n",
            "P2\t3\t\t6\n",
            "P3\t5\t\t8\n",
            "P4\t16\t\t28\n",
            "Average Waiting Time: 16.5\n",
            "Average Turnaround Time: 27.0\n"
          ]
        }
      ]
    },
    {
      "cell_type": "code",
      "execution_count": null,
      "metadata": {
        "colab": {
          "base_uri": "https://localhost:8080/"
        },
        "id": "pQdchDugTzqG",
        "outputId": "d5220a99-7ef0-4e87-8885-dd7ff9492375"
      },
      "outputs": [
        {
          "output_type": "stream",
          "name": "stdout",
          "text": [
            "Preemptive Round Robin Scheduling:\n",
            "Process\tWaiting Time\tTurnaround Time\n",
            "P1\t18\t\t42\n",
            "P2\t0\t\t3\n",
            "P3\t2\t\t5\n",
            "P4\t12\t\t24\n",
            "Average Waiting Time: 8.0\n",
            "Average Turnaround Time: 18.5\n"
          ]
        }
      ],
      "source": [
        "\n",
        "\n",
        "from collections import deque\n",
        "\n",
        "def preemptiveRoundRobin(processes, quantum):\n",
        "    n = len(processes)\n",
        "    remaining_time = [process[2] for process in processes]\n",
        "    waiting_time = [0] * n\n",
        "    turnaround_time = [0] * n\n",
        "    time = 0\n",
        "    queue = deque()\n",
        "\n",
        "    while True:\n",
        "        for i in range(n):\n",
        "            if processes[i][1] <= time and remaining_time[i] > 0:\n",
        "                if remaining_time[i] > quantum:\n",
        "                    time += quantum\n",
        "                    remaining_time[i] -= quantum\n",
        "                    queue.append(i)\n",
        "                else:\n",
        "                    time += remaining_time[i]\n",
        "                    waiting_time[i] = time - processes[i][1] - processes[i][2]\n",
        "                    remaining_time[i] = 0\n",
        "                    turnaround_time[i] = waiting_time[i] + processes[i][2]\n",
        "\n",
        "        done = True\n",
        "        for i in range(n):\n",
        "            if remaining_time[i] > 0:\n",
        "                done = False\n",
        "                break\n",
        "\n",
        "        if done:\n",
        "            break\n",
        "\n",
        "        # Rotate the queue to handle other processes\n",
        "        queue.append(queue.popleft())\n",
        "\n",
        "    total_waiting_time = sum(waiting_time)\n",
        "    total_turnaround_time = sum(turnaround_time)\n",
        "    avg_waiting_time = total_waiting_time / n\n",
        "    avg_turnaround_time = total_turnaround_time / n\n",
        "\n",
        "    print(\"Preemptive Round Robin Scheduling:\")\n",
        "    print(\"Process\\tWaiting Time\\tTurnaround Time\")\n",
        "\n",
        "    for i in range(n):\n",
        "        print(f\"{processes[i][0]}\\t{waiting_time[i]}\\t\\t{turnaround_time[i]}\")\n",
        "\n",
        "    print(f\"Average Waiting Time: {avg_waiting_time}\")\n",
        "    print(f\"Average Turnaround Time: {avg_turnaround_time}\")\n",
        "\n",
        "if __name__ == \"__main__\":\n",
        "    processes = [\n",
        "        (\"P1\", 0, 24, 3),\n",
        "        (\"P2\", 4, 3, 1),\n",
        "        (\"P3\", 5, 3, 4),\n",
        "        (\"P4\", 6, 12, 2)\n",
        "    ]\n",
        "    quantum = 4\n",
        "\n",
        "    preemptiveRoundRobin(processes, quantum)\n"
      ]
    },
    {
      "cell_type": "code",
      "source": [
        "def SJF_preemptive(processes):\n",
        "    n = len(processes)\n",
        "    remaining_time = [process['burst_time'] for process in processes]\n",
        "    completion_time = [0] * n\n",
        "    current_time = 0\n",
        "    total_completed = 0\n",
        "    wt = [0] * n\n",
        "    tat = [0] * n\n",
        "\n",
        "    while total_completed < n:\n",
        "        min_remaining_time = float('inf')\n",
        "        min_process_index = -1\n",
        "\n",
        "        for i in range(n):\n",
        "            if (\n",
        "                processes[i]['arrival_time'] <= current_time\n",
        "                and remaining_time[i] < min_remaining_time\n",
        "                and remaining_time[i] > 0\n",
        "            ):\n",
        "                min_remaining_time = remaining_time[i]\n",
        "                min_process_index = i\n",
        "\n",
        "        if min_process_index == -1:\n",
        "            current_time += 1\n",
        "            continue\n",
        "\n",
        "        # Execute the selected process for 1 time unit\n",
        "        remaining_time[min_process_index] -= 1\n",
        "        current_time += 1\n",
        "\n",
        "        if remaining_time[min_process_index] == 0:\n",
        "            total_completed += 1\n",
        "            completion_time[min_process_index] = current_time\n",
        "            wt[min_process_index] = completion_time[min_process_index] - processes[min_process_index]['burst_time'] - processes[min_process_index]['arrival_time']\n",
        "            tat[min_process_index] = completion_time[min_process_index] - processes[min_process_index]['arrival_time']\n",
        "\n",
        "    # Calculate the average waiting time and average turnaround time\n",
        "    avg_waiting_time = sum(wt) / n\n",
        "    avg_turnaround_time = sum(tat) / n\n",
        "\n",
        "    return wt, tat, avg_waiting_time, avg_turnaround_time\n",
        "\n",
        "if __name__ == \"__main__\":\n",
        "    processes = [\n",
        "        {\"name\": \"P1\", \"arrival_time\": 0, \"burst_time\": 24, \"priority\": 3},\n",
        "        {\"name\": \"P2\", \"arrival_time\": 4, \"burst_time\": 3, \"priority\": 1},\n",
        "        {\"name\": \"P3\", \"arrival_time\": 5, \"burst_time\": 3, \"priority\": 4},\n",
        "        {\"name\": \"P4\", \"arrival_time\": 6, \"burst_time\": 12, \"priority\": 2},\n",
        "    ]\n",
        "\n",
        "    wt, tat, avg_waiting_time, avg_turnaround_time = SJF_preemptive(processes)\n",
        "\n",
        "    print(\"Process\\tWaiting Time\\tTurnaround Time\")\n",
        "    for i in range(len(processes)):\n",
        "        print(f\"{processes[i]['name']}\\t{wt[i]}\\t\\t{tat[i]}\")\n",
        "\n",
        "    print(f\"Average Waiting Time: {avg_waiting_time}\")\n",
        "    print(f\"Average Turnaround Time: {avg_turnaround_time}\")\n"
      ],
      "metadata": {
        "colab": {
          "base_uri": "https://localhost:8080/"
        },
        "id": "KwZyuCuPbPB9",
        "outputId": "afb27592-d023-4de4-935d-64f52390df35"
      },
      "execution_count": null,
      "outputs": [
        {
          "output_type": "stream",
          "name": "stdout",
          "text": [
            "Process\tWaiting Time\tTurnaround Time\n",
            "P1\t18\t\t42\n",
            "P2\t0\t\t3\n",
            "P3\t2\t\t5\n",
            "P4\t4\t\t16\n",
            "Average Waiting Time: 6.0\n",
            "Average Turnaround Time: 16.5\n"
          ]
        }
      ]
    },
    {
      "cell_type": "code",
      "source": [
        "def PS(processes):\n",
        "    n = len(processes)\n",
        "    wt = [0] * n\n",
        "    tat = [0] * n\n",
        "    processes_sorted = sorted(processes, key=lambda x: (x['priority'], x['arrival_time']))\n",
        "    completion_time = processes_sorted[0]['arrival_time']\n",
        "\n",
        "    for i in range(n):\n",
        "        if completion_time < processes_sorted[i]['arrival_time']:\n",
        "            completion_time = processes_sorted[i]['arrival_time']\n",
        "        wt[processes.index(processes_sorted[i])] = completion_time - processes_sorted[i]['arrival_time']\n",
        "        completion_time += processes_sorted[i]['burst_time']\n",
        "        tat[processes.index(processes_sorted[i])] = wt[processes.index(processes_sorted[i])] + processes_sorted[i]['burst_time']\n",
        "\n",
        "    return wt, tat\n",
        "\n",
        "if __name__ == \"__main__\":\n",
        "    processes = [\n",
        "        {\"name\": \"P1\", \"arrival_time\": 0, \"burst_time\": 24, \"priority\": 3},\n",
        "    {\"name\": \"P2\", \"arrival_time\": 4, \"burst_time\": 3, \"priority\": 1},\n",
        "    {\"name\": \"P3\", \"arrival_time\": 5, \"burst_time\": 3, \"priority\": 4},\n",
        "    {\"name\": \"P4\", \"arrival_time\": 6, \"burst_time\": 12, \"priority\": 2}\n",
        "    ]\n",
        "\n",
        "\n",
        "    wt, tat = PS(processes)\n",
        "\n",
        "    print(\"Process\\tWaiting Time\\tTurnaround Time\")\n",
        "    for i in range(len(processes)):\n",
        "        print(f\"{processes[i]['name']}\\t{wt[i]}\\t\\t{tat[i]}\")\n",
        "\n",
        "    avg_waiting_time = sum(wt) / len(processes)\n",
        "    avg_turnaround_time = sum(tat) / len(processes)\n",
        "\n",
        "    print(f\"Average Waiting Time: {avg_waiting_time}\")\n",
        "    print(f\"Average Turnaround Time: {avg_turnaround_time}\")\n"
      ],
      "metadata": {
        "colab": {
          "base_uri": "https://localhost:8080/"
        },
        "id": "ngnQ7fFvgwvD",
        "outputId": "ffd2e682-a712-4cb5-9fe6-a0335fcaa1f0"
      },
      "execution_count": null,
      "outputs": [
        {
          "output_type": "stream",
          "name": "stdout",
          "text": [
            "Process\tWaiting Time\tTurnaround Time\n",
            "P1\t19\t\t43\n",
            "P2\t0\t\t3\n",
            "P3\t38\t\t41\n",
            "P4\t1\t\t13\n",
            "Average Waiting Time: 14.5\n",
            "Average Turnaround Time: 25.0\n"
          ]
        }
      ]
    },
    {
      "cell_type": "code",
      "source": [],
      "metadata": {
        "id": "tTdflcHOijnA"
      },
      "execution_count": null,
      "outputs": []
    }
  ]
}